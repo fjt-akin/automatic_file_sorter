{
 "cells": [
  {
   "cell_type": "markdown",
   "metadata": {},
   "source": [
    "We will create a File Sorter using Python. This will allow us to automate the sorting of our files without having to drag and drop files into folders."
   ]
  },
  {
   "cell_type": "code",
   "execution_count": 34,
   "metadata": {},
   "outputs": [],
   "source": [
    "import os, shutil"
   ]
  },
  {
   "cell_type": "code",
   "execution_count": 35,
   "metadata": {},
   "outputs": [],
   "source": [
    "path = 'C:/Users/f.akinsemoyin/Pictures/'"
   ]
  },
  {
   "cell_type": "code",
   "execution_count": 36,
   "metadata": {},
   "outputs": [],
   "source": [
    "#show us all the files within path\n",
    "file_names = os.listdir(path)"
   ]
  },
  {
   "cell_type": "code",
   "execution_count": 37,
   "metadata": {},
   "outputs": [],
   "source": [
    "folder_names = ['csv files', 'image files', 'pdf files']\n",
    "#check if path already exists\n",
    "for i in range(0,3):\n",
    "    if not os.path.exists(path + folder_names[i]):\n",
    "        os.makedirs(path + folder_names[i])"
   ]
  },
  {
   "cell_type": "code",
   "execution_count": 38,
   "metadata": {},
   "outputs": [],
   "source": [
    "for file in file_names:\n",
    "    if '.csv' in file and not os.path.exists(path + 'csv files/' + file):\n",
    "        shutil.move(path + file, path + 'csv files/' + file)\n",
    "    elif '.png' in file and not os.path.exists(path + 'image files/' + file):\n",
    "        shutil.move(path + file, path + 'image files/' + file)\n",
    "    elif '.pdf' in file and not os.path.exists(path + 'pdf files/' + file):\n",
    "        shutil.move(path + file, path + 'pdf files/' + file)   "
   ]
  }
 ],
 "metadata": {
  "kernelspec": {
   "display_name": "Python 3",
   "language": "python",
   "name": "python3"
  },
  "language_info": {
   "codemirror_mode": {
    "name": "ipython",
    "version": 3
   },
   "file_extension": ".py",
   "mimetype": "text/x-python",
   "name": "python",
   "nbconvert_exporter": "python",
   "pygments_lexer": "ipython3",
   "version": "3.11.6"
  },
  "orig_nbformat": 4
 },
 "nbformat": 4,
 "nbformat_minor": 2
}
